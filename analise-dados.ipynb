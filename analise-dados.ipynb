{
  "nbformat": 4,
  "nbformat_minor": 0,
  "metadata": {
    "colab": {
      "name": "Cópia de aulaoDataScience.ipynb",
      "provenance": [],
      "collapsed_sections": [],
      "authorship_tag": "ABX9TyMxpaX8KSuZweZ1jGpki6p6",
      "include_colab_link": true
    },
    "kernelspec": {
      "name": "python3",
      "display_name": "Python 3"
    },
    "language_info": {
      "name": "python"
    }
  },
  "cells": [
    {
      "cell_type": "markdown",
      "metadata": {
        "id": "view-in-github",
        "colab_type": "text"
      },
      "source": [
        "<a href=\"https://colab.research.google.com/github/marcelopaludetto/edutech-2021/blob/main/analise-dados.ipynb\" target=\"_parent\"><img src=\"https://colab.research.google.com/assets/colab-badge.svg\" alt=\"Open In Colab\"/></a>"
      ]
    },
    {
      "cell_type": "markdown",
      "metadata": {
        "id": "v1lC5oq2ncFH"
      },
      "source": [
        "# Extraindo informações do Edutech"
      ]
    },
    {
      "cell_type": "code",
      "metadata": {
        "id": "NfUPYlleinLN"
      },
      "source": [
        "import pandas as pd\n",
        "import warnings\n",
        "\n",
        "warnings.filterwarnings('ignore')"
      ],
      "execution_count": 39,
      "outputs": []
    },
    {
      "cell_type": "code",
      "metadata": {
        "id": "6MI0F3u51oMm"
      },
      "source": [
        "filenames = [f'https://raw.githubusercontent.com/marcelopaludetto/edutech-2021/main/data/dados{i}.csv' for i in range(35)]           \n",
        "dados = [pd.read_csv(i) for i in filenames] \n",
        "N = len(dados)"
      ],
      "execution_count": 40,
      "outputs": []
    },
    {
      "cell_type": "markdown",
      "source": [
        "# Retirando turmas duplicadas\n",
        "Estudantes do ano passado que estavam em outras trilhas"
      ],
      "metadata": {
        "id": "FxNKHD1BPytj"
      }
    },
    {
      "cell_type": "code",
      "metadata": {
        "id": "9zCY5xmCU39V"
      },
      "source": [
        "for j in range(N):\n",
        "  index = dados[j].turmaTrilha.str.find(',') > 0\n",
        "  for i in range(index.count()):\n",
        "    if (index[i] == True):\n",
        "      dados[j].turmaTrilha[i] = dados[j].turmaTrilha[i].split(',')[1]"
      ],
      "execution_count": 41,
      "outputs": []
    },
    {
      "cell_type": "code",
      "metadata": {
        "id": "ta80MurntPxT"
      },
      "source": [
        "renomear = {'data' : 'data',\n",
        "            'data de último acesso' : 'data_ultimo_acesso',\n",
        "            'id' : 'id',\n",
        "            'turmaTrilha':'turmaTrilha',\n",
        "            'atividadesFeitas':'atividadesFeitas',\n",
        "            'atividadesCorretas':'atividadesCorretas',\n",
        "            'atividadesGerais': 'atividadesGerais'}\n",
        "for f in range(N):\n",
        "  dados[f] = dados[f].rename(columns=renomear)"
      ],
      "execution_count": 42,
      "outputs": []
    },
    {
      "cell_type": "markdown",
      "metadata": {
        "id": "xKpTwsx4mKvW"
      },
      "source": [
        "# Número de estudantes no Edutech"
      ]
    },
    {
      "cell_type": "code",
      "metadata": {
        "id": "Fx2Hr47Xmrhc",
        "colab": {
          "base_uri": "https://localhost:8080/"
        },
        "outputId": "979e7264-fe21-4fa7-e790-e813580c7fcf"
      },
      "source": [
        "EstudantesEdutech = [];\n",
        "for f in range(N):\n",
        "  print('Na {} semana, estudantes = {}'.format(f+1,dados[f].data.count()))\n",
        "  EstudantesEdutech.append(dados[f].data.count())"
      ],
      "execution_count": 43,
      "outputs": [
        {
          "output_type": "stream",
          "name": "stdout",
          "text": [
            "Na 1 semana, estudantes = 67487\n",
            "Na 2 semana, estudantes = 67487\n",
            "Na 3 semana, estudantes = 67487\n",
            "Na 4 semana, estudantes = 67487\n",
            "Na 5 semana, estudantes = 67488\n",
            "Na 6 semana, estudantes = 67745\n",
            "Na 7 semana, estudantes = 70776\n",
            "Na 8 semana, estudantes = 70842\n",
            "Na 9 semana, estudantes = 47923\n",
            "Na 10 semana, estudantes = 48010\n",
            "Na 11 semana, estudantes = 48008\n",
            "Na 12 semana, estudantes = 48511\n",
            "Na 13 semana, estudantes = 48512\n",
            "Na 14 semana, estudantes = 48719\n",
            "Na 15 semana, estudantes = 46581\n",
            "Na 16 semana, estudantes = 46704\n",
            "Na 17 semana, estudantes = 46668\n",
            "Na 18 semana, estudantes = 34791\n",
            "Na 19 semana, estudantes = 38232\n",
            "Na 20 semana, estudantes = 40717\n",
            "Na 21 semana, estudantes = 41896\n",
            "Na 22 semana, estudantes = 41902\n",
            "Na 23 semana, estudantes = 42268\n",
            "Na 24 semana, estudantes = 42548\n",
            "Na 25 semana, estudantes = 42668\n",
            "Na 26 semana, estudantes = 42415\n",
            "Na 27 semana, estudantes = 42579\n",
            "Na 28 semana, estudantes = 42782\n",
            "Na 29 semana, estudantes = 42782\n",
            "Na 30 semana, estudantes = 42780\n",
            "Na 31 semana, estudantes = 43290\n",
            "Na 32 semana, estudantes = 43306\n",
            "Na 33 semana, estudantes = 43308\n",
            "Na 34 semana, estudantes = 43304\n",
            "Na 35 semana, estudantes = 43304\n"
          ]
        }
      ]
    },
    {
      "cell_type": "code",
      "metadata": {
        "id": "pPZDJscow3Yj",
        "colab": {
          "base_uri": "https://localhost:8080/"
        },
        "outputId": "8e570adb-6c82-47e4-8fd0-3f040a3f7c6e"
      },
      "source": [
        "print('Na semana {} foram incluidos {} estudantes no programa Edutech'.format(7,\n",
        "                                                                              dados[6].data.count() - dados[5].data.count()))"
      ],
      "execution_count": 44,
      "outputs": [
        {
          "output_type": "stream",
          "name": "stdout",
          "text": [
            "Na semana 7 foram incluidos 3031 estudantes no programa Edutech\n"
          ]
        }
      ]
    },
    {
      "cell_type": "code",
      "metadata": {
        "id": "udgzlXN9xB0D",
        "colab": {
          "base_uri": "https://localhost:8080/"
        },
        "outputId": "792496ee-ddbb-435c-c3f9-f0a241cd14bd"
      },
      "source": [
        "print('Na 9 semana, foram excluídos {} estudantes do programa Edutech'.format(dados[7].data.count() - dados[8].data.count()))"
      ],
      "execution_count": 45,
      "outputs": [
        {
          "output_type": "stream",
          "name": "stdout",
          "text": [
            "Na 9 semana, foram excluídos 22919 estudantes do programa Edutech\n"
          ]
        }
      ]
    },
    {
      "cell_type": "markdown",
      "metadata": {
        "id": "7RSJn1fRjURI"
      },
      "source": [
        "# Criar dias da semana no último acesso"
      ]
    },
    {
      "cell_type": "code",
      "metadata": {
        "id": "tp3-YE2Xumk1"
      },
      "source": [
        "for i in range(N):\n",
        "  dia_da_semana = [];\n",
        "  for f in range(dados[i].data_ultimo_acesso.count()):\n",
        "      temp = pd.Timestamp(dados[i].data_ultimo_acesso[f])\n",
        "      dia_da_semana.append(temp.day_name())\n",
        "  dados[i]['dia_da_semana'] = dia_da_semana\n",
        "  "
      ],
      "execution_count": 46,
      "outputs": []
    },
    {
      "cell_type": "markdown",
      "metadata": {
        "id": "K-wtsVKxjY4d"
      },
      "source": [
        "## Traduzir os dias da semana"
      ]
    },
    {
      "cell_type": "code",
      "metadata": {
        "id": "Y1LlmPClkauQ"
      },
      "source": [
        "renomear_dia = {\n",
        "    'Wednesday' : 'Quarta',\n",
        "    'Thursday' : 'Quinta',\n",
        "    'Monday' : 'Segunda',\n",
        "    'Sunday' : 'Domingo',\n",
        "    'Saturday' : 'Sabado',\n",
        "    'Tuesday' : 'Terca',\n",
        "    'Friday' : 'Sexta'\n",
        "}\n",
        "for i in range(N):\n",
        "  dados[i].dia_da_semana = dados[i].dia_da_semana.map(renomear_dia)"
      ],
      "execution_count": 47,
      "outputs": []
    },
    {
      "cell_type": "markdown",
      "metadata": {
        "id": "XXB4xGJ7nXa8"
      },
      "source": [
        "## Coletando o número de alunos ativos"
      ]
    },
    {
      "cell_type": "code",
      "metadata": {
        "id": "CKAPKKdpl_mX",
        "colab": {
          "base_uri": "https://localhost:8080/"
        },
        "outputId": "6bd7d908-d24b-4f16-a00d-65b2a6d2fd21"
      },
      "source": [
        "for i in range(N):\n",
        "  print(dados[i][dados[i]['atividadesGerais'].notnull()].data.count())\n",
        "  # print('Na {} semana, o número de estudantes ativos no Edutech é de {}'.format(i+1,dados[i][dados[i]['atividadesGerais'].notnull()].data.count()))"
      ],
      "execution_count": 80,
      "outputs": [
        {
          "output_type": "stream",
          "name": "stdout",
          "text": [
            "6358\n",
            "6619\n",
            "6664\n",
            "6696\n",
            "6485\n",
            "6879\n",
            "5592\n",
            "6439\n",
            "6538\n",
            "6352\n",
            "5395\n",
            "4297\n",
            "1401\n",
            "3676\n",
            "5321\n",
            "5499\n",
            "5457\n",
            "5424\n",
            "5689\n",
            "6254\n",
            "5367\n",
            "6964\n",
            "7349\n",
            "7581\n",
            "7520\n",
            "5011\n",
            "7610\n",
            "7216\n",
            "5553\n",
            "7192\n",
            "5542\n",
            "5930\n",
            "4678\n",
            "3178\n",
            "1851\n"
          ]
        }
      ]
    },
    {
      "cell_type": "code",
      "metadata": {
        "id": "YM4rYJGkn5Xy",
        "colab": {
          "base_uri": "https://localhost:8080/"
        },
        "outputId": "a173a16b-3b6e-488e-d61f-a425e12a0a24"
      },
      "source": [
        "for i in range(N):\n",
        " print((dados[i][dados[i]['atividadesGerais'].notnull()].data.count()/dados[i].data.count()*100).round(2))\n",
        " \n",
        " # print('Na semana {} tivemos {} % de estudantes ativos.'.format(i+1,(dados[i][dados[i]['atividadesGerais'].notnull()].data.count()/dados[i].data.count()*100).round(2)))\n"
      ],
      "execution_count": 81,
      "outputs": [
        {
          "output_type": "stream",
          "name": "stdout",
          "text": [
            "9.42\n",
            "9.81\n",
            "9.87\n",
            "9.92\n",
            "9.61\n",
            "10.15\n",
            "7.9\n",
            "9.09\n",
            "13.64\n",
            "13.23\n",
            "11.24\n",
            "8.86\n",
            "2.89\n",
            "7.55\n",
            "11.42\n",
            "11.77\n",
            "11.69\n",
            "15.59\n",
            "14.88\n",
            "15.36\n",
            "12.81\n",
            "16.62\n",
            "17.39\n",
            "17.82\n",
            "17.62\n",
            "11.81\n",
            "17.87\n",
            "16.87\n",
            "12.98\n",
            "16.81\n",
            "12.8\n",
            "13.69\n",
            "10.8\n",
            "7.34\n",
            "4.27\n"
          ]
        }
      ]
    },
    {
      "cell_type": "markdown",
      "metadata": {
        "id": "G1wthKKIcmwL"
      },
      "source": [
        "# Classificar os estudantes em trilhas\n"
      ]
    },
    {
      "cell_type": "code",
      "metadata": {
        "id": "uzM3dOylksQX"
      },
      "source": [
        "for i in range(N):\n",
        "  dados[i].turmaTrilha.replace('\\xa0','')"
      ],
      "execution_count": 50,
      "outputs": []
    },
    {
      "cell_type": "markdown",
      "metadata": {
        "id": "o_UaQxk0fgsQ"
      },
      "source": [
        "crtl + shift + L"
      ]
    },
    {
      "cell_type": "code",
      "metadata": {
        "id": "WLH5RLbH8ld2"
      },
      "source": [
        "trilha = {\n",
        "    '11' : 'Games1',\n",
        "    '12' : 'Games2' ,   \n",
        "    '21' : 'FrontEnd',\n",
        "    '22' : 'Mobile',\n",
        "    '23' : 'DataScience',\n",
        "    '24' : 'Java',\n",
        "    '25' : 'Python',\n",
        "    '16' : 'ETI',\n",
        "    '17' : 'ETI'\n",
        "}"
      ],
      "execution_count": 51,
      "outputs": []
    },
    {
      "cell_type": "code",
      "metadata": {
        "id": "LbJX8s7f3cld"
      },
      "source": [
        "for j in range(N):\n",
        "  index = dados[j]['turmaTrilha'].astype(str).str[:2]\n",
        "  dados[j]['Trilha'] = index\n",
        "  dados[j].Trilha = dados[j].Trilha.map(trilha)"
      ],
      "execution_count": 52,
      "outputs": []
    },
    {
      "cell_type": "code",
      "metadata": {
        "id": "_cufVAbEkOz3",
        "colab": {
          "base_uri": "https://localhost:8080/"
        },
        "outputId": "b32651c5-b69c-474b-c23a-0e60ac0bd59a"
      },
      "source": [
        "for j in range(N):\n",
        "  print(dados[j].Trilha.value_counts())"
      ],
      "execution_count": 82,
      "outputs": [
        {
          "output_type": "stream",
          "name": "stdout",
          "text": [
            "ETI            18772\n",
            "Games1         15126\n",
            "Games2         13265\n",
            "FrontEnd        7475\n",
            "Mobile          4341\n",
            "Python          3586\n",
            "Java            2429\n",
            "DataScience     1847\n",
            "Name: Trilha, dtype: int64\n",
            "ETI            18772\n",
            "Games1         15126\n",
            "Games2         13265\n",
            "FrontEnd        7475\n",
            "Mobile          4341\n",
            "Python          3586\n",
            "Java            2429\n",
            "DataScience     1847\n",
            "Name: Trilha, dtype: int64\n",
            "ETI            19220\n",
            "Games1         15125\n",
            "Games2         13265\n",
            "FrontEnd        7475\n",
            "Mobile          4346\n",
            "Python          3586\n",
            "Java            2429\n",
            "DataScience     1850\n",
            "Name: Trilha, dtype: int64\n",
            "ETI            19347\n",
            "Games1         15125\n",
            "Games2         13265\n",
            "FrontEnd        7406\n",
            "Mobile          4346\n",
            "Python          3586\n",
            "Java            2429\n",
            "DataScience     1850\n",
            "Name: Trilha, dtype: int64\n",
            "ETI            19348\n",
            "Games1         15125\n",
            "Games2         13265\n",
            "FrontEnd        7406\n",
            "Mobile          4346\n",
            "Python          3586\n",
            "Java            2429\n",
            "DataScience     1850\n",
            "Name: Trilha, dtype: int64\n",
            "ETI            19671\n",
            "Games1         15125\n",
            "Games2         13263\n",
            "FrontEnd        7475\n",
            "Mobile          4346\n",
            "Python          3586\n",
            "Java            2429\n",
            "DataScience     1850\n",
            "Name: Trilha, dtype: int64\n",
            "ETI            19635\n",
            "Games1         16019\n",
            "Games2         13954\n",
            "FrontEnd        7988\n",
            "Mobile          4639\n",
            "Python          3838\n",
            "Java            2658\n",
            "DataScience     2045\n",
            "Name: Trilha, dtype: int64\n",
            "ETI            19634\n",
            "Games1         16019\n",
            "Games2         14020\n",
            "FrontEnd        7988\n",
            "Mobile          4640\n",
            "Python          3838\n",
            "Java            2658\n",
            "DataScience     2045\n",
            "Name: Trilha, dtype: int64\n",
            "ETI            19635\n",
            "Games1          9097\n",
            "Games2          7788\n",
            "FrontEnd        4613\n",
            "Mobile          2143\n",
            "Python          2076\n",
            "Java            1516\n",
            "DataScience     1055\n",
            "Name: Trilha, dtype: int64\n",
            "ETI            19634\n",
            "Games1          9167\n",
            "Games2          7800\n",
            "FrontEnd        4617\n",
            "Mobile          2143\n",
            "Python          2077\n",
            "Java            1517\n",
            "DataScience     1055\n",
            "Name: Trilha, dtype: int64\n",
            "ETI            19634\n",
            "Games1          9166\n",
            "Games2          7800\n",
            "FrontEnd        4617\n",
            "Mobile          2143\n",
            "Python          2076\n",
            "Java            1517\n",
            "DataScience     1055\n",
            "Name: Trilha, dtype: int64\n",
            "ETI            19633\n",
            "Games1          9353\n",
            "Games2          7960\n",
            "FrontEnd        4675\n",
            "Mobile          2183\n",
            "Python          2094\n",
            "Java            1541\n",
            "DataScience     1072\n",
            "Name: Trilha, dtype: int64\n",
            "ETI            19633\n",
            "Games1          9353\n",
            "Games2          7960\n",
            "FrontEnd        4675\n",
            "Mobile          2183\n",
            "Python          2095\n",
            "Java            1541\n",
            "DataScience     1072\n",
            "Name: Trilha, dtype: int64\n",
            "ETI            19633\n",
            "Games1          9450\n",
            "Games2          7997\n",
            "FrontEnd        4700\n",
            "Mobile          2203\n",
            "Python          2105\n",
            "Java            1549\n",
            "DataScience     1082\n",
            "Name: Trilha, dtype: int64\n",
            "ETI            19632\n",
            "Games1          9043\n",
            "Games2          7276\n",
            "FrontEnd        4051\n",
            "Mobile          2104\n",
            "Python          1899\n",
            "Java            1513\n",
            "DataScience     1063\n",
            "Name: Trilha, dtype: int64\n",
            "ETI            19647\n",
            "Games1          9079\n",
            "Games2          7310\n",
            "FrontEnd        4066\n",
            "Mobile          2111\n",
            "Python          1906\n",
            "Java            1520\n",
            "DataScience     1065\n",
            "Name: Trilha, dtype: int64\n",
            "ETI            19647\n",
            "Games1          9070\n",
            "Games2          7290\n",
            "FrontEnd        4064\n",
            "Mobile          2109\n",
            "Python          1906\n",
            "Java            1517\n",
            "DataScience     1065\n",
            "Name: Trilha, dtype: int64\n",
            "ETI            19602\n",
            "Games1          4992\n",
            "Games2          3899\n",
            "FrontEnd        2448\n",
            "Mobile          1220\n",
            "Python          1064\n",
            "Java             886\n",
            "DataScience      680\n",
            "Name: Trilha, dtype: int64\n",
            "ETI            19597\n",
            "Games1          6174\n",
            "Games2          4609\n",
            "FrontEnd        2909\n",
            "Mobile          1523\n",
            "Python          1355\n",
            "Java            1167\n",
            "DataScience      898\n",
            "Name: Trilha, dtype: int64\n",
            "ETI            19647\n",
            "Games1          7024\n",
            "Games2          5332\n",
            "FrontEnd        3263\n",
            "Mobile          1698\n",
            "Python          1464\n",
            "Java            1301\n",
            "DataScience      988\n",
            "Name: Trilha, dtype: int64\n",
            "ETI            19627\n",
            "Games1          7478\n",
            "Games2          5720\n",
            "FrontEnd        3406\n",
            "Mobile          1786\n",
            "Python          1513\n",
            "Java            1347\n",
            "DataScience     1019\n",
            "Name: Trilha, dtype: int64\n",
            "ETI            19632\n",
            "Games1          7481\n",
            "Games2          5719\n",
            "FrontEnd        3406\n",
            "Mobile          1786\n",
            "Python          1512\n",
            "Java            1347\n",
            "DataScience     1019\n",
            "Name: Trilha, dtype: int64\n",
            "ETI            19391\n",
            "Games1          7772\n",
            "Games2          5855\n",
            "FrontEnd        3467\n",
            "Mobile          1823\n",
            "Python          1539\n",
            "Java            1375\n",
            "DataScience     1046\n",
            "Name: Trilha, dtype: int64\n",
            "ETI            19435\n",
            "Games1          7861\n",
            "Games2          5907\n",
            "FrontEnd        3507\n",
            "Mobile          1839\n",
            "Python          1551\n",
            "Java            1388\n",
            "DataScience     1060\n",
            "Name: Trilha, dtype: int64\n",
            "ETI            19432\n",
            "Games1          7907\n",
            "Games2          5946\n",
            "FrontEnd        3522\n",
            "Mobile          1848\n",
            "Python          1557\n",
            "Java            1391\n",
            "DataScience     1065\n",
            "Name: Trilha, dtype: int64\n",
            "ETI            19092\n",
            "Games1          7939\n",
            "Games2          5995\n",
            "FrontEnd        3528\n",
            "Mobile          1856\n",
            "Python          1552\n",
            "Java            1389\n",
            "DataScience     1064\n",
            "Name: Trilha, dtype: int64\n",
            "ETI            19097\n",
            "Games1          7998\n",
            "Games2          6057\n",
            "FrontEnd        3543\n",
            "Mobile          1864\n",
            "Python          1558\n",
            "Java            1395\n",
            "DataScience     1066\n",
            "Name: Trilha, dtype: int64\n",
            "ETI            19155\n",
            "Games1          8033\n",
            "Games2          6091\n",
            "FrontEnd        3584\n",
            "Mobile          1878\n",
            "Python          1562\n",
            "Java            1404\n",
            "DataScience     1074\n",
            "Name: Trilha, dtype: int64\n",
            "ETI            19155\n",
            "Games1          8033\n",
            "Games2          6091\n",
            "FrontEnd        3584\n",
            "Mobile          1878\n",
            "Python          1562\n",
            "Java            1404\n",
            "DataScience     1074\n",
            "Name: Trilha, dtype: int64\n",
            "ETI            18974\n",
            "Games1          8119\n",
            "Games2          6138\n",
            "FrontEnd        3599\n",
            "Mobile          1890\n",
            "Python          1567\n",
            "Java            1410\n",
            "DataScience     1081\n",
            "Name: Trilha, dtype: int64\n",
            "ETI            18985\n",
            "Games1          8348\n",
            "Games2          6154\n",
            "FrontEnd        3687\n",
            "Mobile          1923\n",
            "Python          1606\n",
            "Java            1447\n",
            "DataScience     1138\n",
            "Name: Trilha, dtype: int64\n",
            "ETI            19003\n",
            "Games1          8346\n",
            "Games2          6153\n",
            "FrontEnd        3687\n",
            "Mobile          1923\n",
            "Python          1605\n",
            "Java            1449\n",
            "DataScience     1138\n",
            "Name: Trilha, dtype: int64\n",
            "ETI            19005\n",
            "Games1          8346\n",
            "Games2          6153\n",
            "FrontEnd        3687\n",
            "Mobile          1923\n",
            "Python          1605\n",
            "Java            1449\n",
            "DataScience     1138\n",
            "Name: Trilha, dtype: int64\n",
            "ETI            19003\n",
            "Games1          8344\n",
            "Games2          6155\n",
            "FrontEnd        3687\n",
            "Mobile          1922\n",
            "Python          1605\n",
            "Java            1449\n",
            "DataScience     1137\n",
            "Name: Trilha, dtype: int64\n",
            "ETI            19003\n",
            "Games1          8344\n",
            "Games2          6155\n",
            "FrontEnd        3687\n",
            "Mobile          1922\n",
            "Python          1605\n",
            "Java            1449\n",
            "DataScience     1137\n",
            "Name: Trilha, dtype: int64\n"
          ]
        }
      ]
    },
    {
      "cell_type": "markdown",
      "metadata": {
        "id": "PKZ_2nP1pZti"
      },
      "source": [
        "# Analisando o número de atividades feitas por semana"
      ]
    },
    {
      "cell_type": "code",
      "metadata": {
        "id": "SyHlihzUpT83"
      },
      "source": [
        "alunosAtivosDaSemana = [];\n",
        "for i in range(N):\n",
        "  alunosAtivosDaSemana.append(dados[i].query(\"atividadesGerais > 0\"))"
      ],
      "execution_count": 54,
      "outputs": []
    },
    {
      "cell_type": "code",
      "metadata": {
        "id": "PtvHOGcPpYvv",
        "colab": {
          "base_uri": "https://localhost:8080/"
        },
        "outputId": "d60d3728-aed4-48fb-b9d6-cdd2cbe8296c"
      },
      "source": [
        "for i in range(N):\n",
        "  print('Na semana {} foram realidas {} atividades'.format(i+1,sum(alunosAtivosDaSemana[i].atividadesFeitas)))"
      ],
      "execution_count": 55,
      "outputs": [
        {
          "output_type": "stream",
          "name": "stdout",
          "text": [
            "Na semana 1 foram realidas 28573 atividades\n",
            "Na semana 2 foram realidas 30411 atividades\n",
            "Na semana 3 foram realidas 32140 atividades\n",
            "Na semana 4 foram realidas 36710 atividades\n",
            "Na semana 5 foram realidas 32696 atividades\n",
            "Na semana 6 foram realidas 35833 atividades\n",
            "Na semana 7 foram realidas 27989 atividades\n",
            "Na semana 8 foram realidas 32763 atividades\n",
            "Na semana 9 foram realidas 31950 atividades\n",
            "Na semana 10 foram realidas 30279 atividades\n",
            "Na semana 11 foram realidas 25463 atividades\n",
            "Na semana 12 foram realidas 21533 atividades\n",
            "Na semana 13 foram realidas 7809 atividades\n",
            "Na semana 14 foram realidas 18009 atividades\n",
            "Na semana 15 foram realidas 27738 atividades\n",
            "Na semana 16 foram realidas 29051 atividades\n",
            "Na semana 17 foram realidas 29636 atividades\n",
            "Na semana 18 foram realidas 33382 atividades\n",
            "Na semana 19 foram realidas 36146 atividades\n",
            "Na semana 20 foram realidas 42321 atividades\n",
            "Na semana 21 foram realidas 37718 atividades\n",
            "Na semana 22 foram realidas 52312 atividades\n",
            "Na semana 23 foram realidas 52399 atividades\n",
            "Na semana 24 foram realidas 49431 atividades\n",
            "Na semana 25 foram realidas 52122 atividades\n",
            "Na semana 26 foram realidas 34580 atividades\n",
            "Na semana 27 foram realidas 60567 atividades\n",
            "Na semana 28 foram realidas 61564 atividades\n",
            "Na semana 29 foram realidas 44778 atividades\n",
            "Na semana 30 foram realidas 62314 atividades\n",
            "Na semana 31 foram realidas 49288 atividades\n",
            "Na semana 32 foram realidas 61902 atividades\n",
            "Na semana 33 foram realidas 53926 atividades\n",
            "Na semana 34 foram realidas 54540 atividades\n",
            "Na semana 35 foram realidas 50680 atividades\n"
          ]
        }
      ]
    },
    {
      "cell_type": "code",
      "metadata": {
        "id": "L9_lhTDvraO3"
      },
      "source": [
        "grafico = [];\n",
        "for i in range(N):\n",
        "  grafico.append(sum(alunosAtivosDaSemana[i].atividadesFeitas))"
      ],
      "execution_count": 56,
      "outputs": []
    },
    {
      "cell_type": "code",
      "metadata": {
        "id": "dfGD5FtOlq47",
        "colab": {
          "base_uri": "https://localhost:8080/",
          "height": 394
        },
        "outputId": "bf5924f4-0644-4b8b-e3bf-7aef9e24bccb"
      },
      "source": [
        "grafico1 = pd.DataFrame({'atividades feitas por semana' : grafico})\n",
        "grafico1.head()\n",
        "grafico1.plot(kind ='bar',figsize = (20,6))"
      ],
      "execution_count": 57,
      "outputs": [
        {
          "output_type": "execute_result",
          "data": {
            "text/plain": [
              "<matplotlib.axes._subplots.AxesSubplot at 0x7fd0519d5f90>"
            ]
          },
          "metadata": {},
          "execution_count": 57
        },
        {
          "output_type": "display_data",
          "data": {
            "image/png": "[encoded data removed]",
            "text/plain": [
              "<Figure size 1440x432 with 1 Axes>"
            ]
          },
          "metadata": {
            "needs_background": "light"
          }
        }
      ]
    },
    {
      "cell_type": "code",
      "source": [
        "grafico"
      ],
      "metadata": {
        "id": "Ya-dWDf4m9Tz",
        "outputId": "d4ab3717-9ca1-4074-a42c-ffe03e74777c",
        "colab": {
          "base_uri": "https://localhost:8080/"
        }
      },
      "execution_count": 77,
      "outputs": [
        {
          "output_type": "execute_result",
          "data": {
            "text/plain": [
              "[28573,\n",
              " 30411,\n",
              " 32140,\n",
              " 36710,\n",
              " 32696,\n",
              " 35833,\n",
              " 27989,\n",
              " 32763,\n",
              " 31950,\n",
              " 30279,\n",
              " 25463,\n",
              " 21533,\n",
              " 7809,\n",
              " 18009,\n",
              " 27738,\n",
              " 29051,\n",
              " 29636,\n",
              " 33382,\n",
              " 36146,\n",
              " 42321,\n",
              " 37718,\n",
              " 52312,\n",
              " 52399,\n",
              " 49431,\n",
              " 52122,\n",
              " 34580,\n",
              " 60567,\n",
              " 61564,\n",
              " 44778,\n",
              " 62314,\n",
              " 49288,\n",
              " 61902,\n",
              " 53926,\n",
              " 54540,\n",
              " 50680]"
            ]
          },
          "metadata": {},
          "execution_count": 77
        }
      ]
    },
    {
      "cell_type": "markdown",
      "metadata": {
        "id": "bYOuHyIcnRNu"
      },
      "source": [
        "# Número de estudantes ativos no Edutech"
      ]
    },
    {
      "cell_type": "code",
      "metadata": {
        "id": "EPMvZ5_4nQ5s",
        "colab": {
          "base_uri": "https://localhost:8080/"
        },
        "outputId": "2c2e3657-35cb-412a-8a5e-a3e2b445f60e"
      },
      "source": [
        "alunosAtivosDaSemana[1].data.count()"
      ],
      "execution_count": 58,
      "outputs": [
        {
          "output_type": "execute_result",
          "data": {
            "text/plain": [
              "6619"
            ]
          },
          "metadata": {},
          "execution_count": 58
        }
      ]
    },
    {
      "cell_type": "markdown",
      "metadata": {
        "id": "kweiRO7PXEJ_"
      },
      "source": [
        "# Média de atividades realizadas por alunos de cada Trilha por Semana"
      ]
    },
    {
      "cell_type": "code",
      "metadata": {
        "id": "pE-YrJCPXf6s",
        "colab": {
          "base_uri": "https://localhost:8080/",
          "height": 206
        },
        "outputId": "07bebe8a-25bb-4f14-d822-66cc9f3541eb"
      },
      "source": [
        "alunos_semana = pd.DataFrame({'ETI':[alunosAtivosDaSemana[i].query(\"Trilha == 'ETI'\").data.count() for i in range(N)],\n",
        "              'Games1':[alunosAtivosDaSemana[i].query(\"Trilha == 'Games1'\").data.count() for i in range(N)],\n",
        "              'Games2': [alunosAtivosDaSemana[i].query(\"Trilha == 'Games2'\").data.count() for i in range(N)],\n",
        "              'FrontEnd':[alunosAtivosDaSemana[i].query(\"Trilha == 'FrontEnd'\").data.count() for i in range(N)],\n",
        "              'Mobile': [alunosAtivosDaSemana[i].query(\"Trilha == 'Mobile'\").data.count() for i in range(N)],\n",
        "              'DataScience': [alunosAtivosDaSemana[i].query(\"Trilha == 'DataScience'\").data.count() for i in range(N)],\n",
        "              'Java': [alunosAtivosDaSemana[i].query(\"Trilha == 'Java'\").data.count() for i in range(N)],\n",
        "              'Python': [alunosAtivosDaSemana[i].query(\"Trilha == 'Python'\").data.count() for i in range(N)]})\n",
        "alunos_semana.head()"
      ],
      "execution_count": 59,
      "outputs": [
        {
          "output_type": "execute_result",
          "data": {
            "text/html": [
              "\n",
              "  <div id=\"df-bb6df037-eaa2-422c-9af3-68333f2675ab\">\n",
              "    <div class=\"colab-df-container\">\n",
              "      <div>\n",
              "<style scoped>\n",
              "    .dataframe tbody tr th:only-of-type {\n",
              "        vertical-align: middle;\n",
              "    }\n",
              "\n",
              "    .dataframe tbody tr th {\n",
              "        vertical-align: top;\n",
              "    }\n",
              "\n",
              "    .dataframe thead th {\n",
              "        text-align: right;\n",
              "    }\n",
              "</style>\n",
              "<table border=\"1\" class=\"dataframe\">\n",
              "  <thead>\n",
              "    <tr style=\"text-align: right;\">\n",
              "      <th></th>\n",
              "      <th>ETI</th>\n",
              "      <th>Games1</th>\n",
              "      <th>Games2</th>\n",
              "      <th>FrontEnd</th>\n",
              "      <th>Mobile</th>\n",
              "      <th>DataScience</th>\n",
              "      <th>Java</th>\n",
              "      <th>Python</th>\n",
              "    </tr>\n",
              "  </thead>\n",
              "  <tbody>\n",
              "    <tr>\n",
              "      <th>0</th>\n",
              "      <td>148</td>\n",
              "      <td>2076</td>\n",
              "      <td>1626</td>\n",
              "      <td>1021</td>\n",
              "      <td>440</td>\n",
              "      <td>240</td>\n",
              "      <td>368</td>\n",
              "      <td>438</td>\n",
              "    </tr>\n",
              "    <tr>\n",
              "      <th>1</th>\n",
              "      <td>266</td>\n",
              "      <td>2198</td>\n",
              "      <td>1621</td>\n",
              "      <td>1039</td>\n",
              "      <td>442</td>\n",
              "      <td>238</td>\n",
              "      <td>381</td>\n",
              "      <td>433</td>\n",
              "    </tr>\n",
              "    <tr>\n",
              "      <th>2</th>\n",
              "      <td>347</td>\n",
              "      <td>2231</td>\n",
              "      <td>1534</td>\n",
              "      <td>1041</td>\n",
              "      <td>450</td>\n",
              "      <td>241</td>\n",
              "      <td>392</td>\n",
              "      <td>428</td>\n",
              "    </tr>\n",
              "    <tr>\n",
              "      <th>3</th>\n",
              "      <td>562</td>\n",
              "      <td>2096</td>\n",
              "      <td>1529</td>\n",
              "      <td>1003</td>\n",
              "      <td>436</td>\n",
              "      <td>234</td>\n",
              "      <td>372</td>\n",
              "      <td>453</td>\n",
              "    </tr>\n",
              "    <tr>\n",
              "      <th>4</th>\n",
              "      <td>917</td>\n",
              "      <td>1984</td>\n",
              "      <td>1357</td>\n",
              "      <td>901</td>\n",
              "      <td>383</td>\n",
              "      <td>207</td>\n",
              "      <td>331</td>\n",
              "      <td>395</td>\n",
              "    </tr>\n",
              "  </tbody>\n",
              "</table>\n",
              "</div>\n",
              "      <button class=\"colab-df-convert\" onclick=\"convertToInteractive('df-bb6df037-eaa2-422c-9af3-68333f2675ab')\"\n",
              "              title=\"Convert this dataframe to an interactive table.\"\n",
              "              style=\"display:none;\">\n",
              "        \n",
              "  <svg xmlns=\"http://www.w3.org/2000/svg\" height=\"24px\"viewBox=\"0 0 24 24\"\n",
              "       width=\"24px\">\n",
              "    <path d=\"M0 0h24v24H0V0z\" fill=\"none\"/>\n",
              "    <path d=\"M18.56 5.44l.94 2.06.94-2.06 2.06-.94-2.06-.94-.94-2.06-.94 2.06-2.06.94zm-11 1L8.5 8.5l.94-2.06 2.06-.94-2.06-.94L8.5 2.5l-.94 2.06-2.06.94zm10 10l.94 2.06.94-2.06 2.06-.94-2.06-.94-.94-2.06-.94 2.06-2.06.94z\"/><path d=\"M17.41 7.96l-1.37-1.37c-.4-.4-.92-.59-1.43-.59-.52 0-1.04.2-1.43.59L10.3 9.45l-7.72 7.72c-.78.78-.78 2.05 0 2.83L4 21.41c.39.39.9.59 1.41.59.51 0 1.02-.2 1.41-.59l7.78-7.78 2.81-2.81c.8-.78.8-2.07 0-2.86zM5.41 20L4 18.59l7.72-7.72 1.47 1.35L5.41 20z\"/>\n",
              "  </svg>\n",
              "      </button>\n",
              "      \n",
              "  <style>\n",
              "    .colab-df-container {\n",
              "      display:flex;\n",
              "      flex-wrap:wrap;\n",
              "      gap: 12px;\n",
              "    }\n",
              "\n",
              "    .colab-df-convert {\n",
              "      background-color: #E8F0FE;\n",
              "      border: none;\n",
              "      border-radius: 50%;\n",
              "      cursor: pointer;\n",
              "      display: none;\n",
              "      fill: #1967D2;\n",
              "      height: 32px;\n",
              "      padding: 0 0 0 0;\n",
              "      width: 32px;\n",
              "    }\n",
              "\n",
              "    .colab-df-convert:hover {\n",
              "      background-color: #E2EBFA;\n",
              "      box-shadow: 0px 1px 2px rgba(60, 64, 67, 0.3), 0px 1px 3px 1px rgba(60, 64, 67, 0.15);\n",
              "      fill: #174EA6;\n",
              "    }\n",
              "\n",
              "    [theme=dark] .colab-df-convert {\n",
              "      background-color: #3B4455;\n",
              "      fill: #D2E3FC;\n",
              "    }\n",
              "\n",
              "    [theme=dark] .colab-df-convert:hover {\n",
              "      background-color: #434B5C;\n",
              "      box-shadow: 0px 1px 3px 1px rgba(0, 0, 0, 0.15);\n",
              "      filter: drop-shadow(0px 1px 2px rgba(0, 0, 0, 0.3));\n",
              "      fill: #FFFFFF;\n",
              "    }\n",
              "  </style>\n",
              "\n",
              "      <script>\n",
              "        const buttonEl =\n",
              "          document.querySelector('#df-bb6df037-eaa2-422c-9af3-68333f2675ab button.colab-df-convert');\n",
              "        buttonEl.style.display =\n",
              "          google.colab.kernel.accessAllowed ? 'block' : 'none';\n",
              "\n",
              "        async function convertToInteractive(key) {\n",
              "          const element = document.querySelector('#df-bb6df037-eaa2-422c-9af3-68333f2675ab');\n",
              "          const dataTable =\n",
              "            await google.colab.kernel.invokeFunction('convertToInteractive',\n",
              "                                                     [key], {});\n",
              "          if (!dataTable) return;\n",
              "\n",
              "          const docLinkHtml = 'Like what you see? Visit the ' +\n",
              "            '<a target=\"_blank\" href=https://colab.research.google.com/notebooks/data_table.ipynb>data table notebook</a>'\n",
              "            + ' to learn more about interactive tables.';\n",
              "          element.innerHTML = '';\n",
              "          dataTable['output_type'] = 'display_data';\n",
              "          await google.colab.output.renderOutput(dataTable, element);\n",
              "          const docLink = document.createElement('div');\n",
              "          docLink.innerHTML = docLinkHtml;\n",
              "          element.appendChild(docLink);\n",
              "        }\n",
              "      </script>\n",
              "    </div>\n",
              "  </div>\n",
              "  "
            ],
            "text/plain": [
              "   ETI  Games1  Games2  FrontEnd  Mobile  DataScience  Java  Python\n",
              "0  148    2076    1626      1021     440          240   368     438\n",
              "1  266    2198    1621      1039     442          238   381     433\n",
              "2  347    2231    1534      1041     450          241   392     428\n",
              "3  562    2096    1529      1003     436          234   372     453\n",
              "4  917    1984    1357       901     383          207   331     395"
            ]
          },
          "metadata": {},
          "execution_count": 59
        }
      ]
    },
    {
      "cell_type": "code",
      "metadata": {
        "id": "fimwbbDqV-j0",
        "colab": {
          "base_uri": "https://localhost:8080/"
        },
        "outputId": "549579ee-28fd-44eb-e200-965a8117cc1a"
      },
      "source": [
        "dados[26].groupby('Trilha').mean().atividadesGerais.sort_values()"
      ],
      "execution_count": 60,
      "outputs": [
        {
          "output_type": "execute_result",
          "data": {
            "text/plain": [
              "Trilha\n",
              "Mobile         22.446237\n",
              "Java           22.655172\n",
              "FrontEnd       23.292052\n",
              "DataScience    25.752475\n",
              "Python         26.338983\n",
              "Games1         32.253227\n",
              "Games2         34.319672\n",
              "ETI            36.607075\n",
              "Name: atividadesGerais, dtype: float64"
            ]
          },
          "metadata": {},
          "execution_count": 60
        }
      ]
    },
    {
      "cell_type": "code",
      "metadata": {
        "id": "lkUwQ4ueUxrS",
        "colab": {
          "base_uri": "https://localhost:8080/",
          "height": 391
        },
        "outputId": "e80241d0-f384-4612-e549-2f098b2423a3"
      },
      "source": [
        "alunos_semana.iloc[:,1:].plot(kind = 'box',\n",
        "           figsize = (20,6))"
      ],
      "execution_count": 61,
      "outputs": [
        {
          "output_type": "execute_result",
          "data": {
            "text/plain": [
              "<matplotlib.axes._subplots.AxesSubplot at 0x7fd02ff2c3d0>"
            ]
          },
          "metadata": {},
          "execution_count": 61
        },
        {
          "output_type": "display_data",
          "data": {
            "image/png": "[encoded data removed]",
            "text/plain": [
              "<Figure size 1440x432 with 1 Axes>"
            ]
          },
          "metadata": {
            "needs_background": "light"
          }
        }
      ]
    },
    {
      "cell_type": "markdown",
      "metadata": {
        "id": "vyN5uUzmnxv9"
      },
      "source": [
        "# Gráficos"
      ]
    },
    {
      "cell_type": "code",
      "metadata": {
        "id": "3PAcdSYpl4h2"
      },
      "source": [
        "import seaborn as sns\n",
        "import matplotlib.pyplot as plt"
      ],
      "execution_count": 62,
      "outputs": []
    },
    {
      "cell_type": "markdown",
      "metadata": {
        "id": "vckSGZKVgETq"
      },
      "source": [
        "Gráfico01 - Número de estudantes inscritos no Edutech por semana"
      ]
    },
    {
      "cell_type": "code",
      "metadata": {
        "id": "O75J_AZc-SWZ"
      },
      "source": [
        "alunosETI = [];\n",
        "alunosGames1 = [];\n",
        "alunosGames2 = [];\n",
        "alunosFrontEnd = [];\n",
        "alunosMobile = [];\n",
        "alunosDataScience = [];\n",
        "alunosJava = [];\n",
        "alunosPython = [];\n",
        "for i in range(N):\n",
        "  alunosETI.append(dados[i].query('Trilha == \"ETI\"').atividadesGerais.count())\n",
        "  alunosGames1.append(dados[i].query('Trilha == \"Games1\"').atividadesGerais.count())\n",
        "  alunosGames2.append(dados[i].query('Trilha == \"Games2\"').atividadesGerais.count())\n",
        "  alunosFrontEnd.append(dados[i].query('Trilha == \"FrontEnd\"').atividadesGerais.count())\n",
        "  alunosMobile.append(dados[i].query('Trilha == \"Mobile\"').atividadesGerais.count())\n",
        "  alunosDataScience.append(dados[i].query('Trilha == \"DataScience\"').atividadesGerais.count())\n",
        "  alunosJava.append(dados[i].query('Trilha == \"Java\"').atividadesGerais.count())\n",
        "  alunosPython.append(dados[i].query('Trilha == \"Python\"').atividadesGerais.count())\n"
      ],
      "execution_count": 63,
      "outputs": []
    },
    {
      "cell_type": "code",
      "metadata": {
        "id": "_DJVdBRChU0b",
        "colab": {
          "base_uri": "https://localhost:8080/",
          "height": 393
        },
        "outputId": "39e95960-d100-48a7-b3fa-433150b8820e"
      },
      "source": [
        "t = list(range(1,N+1))\n",
        "plt.figure(figsize=(30,6))\n",
        "plt.plot(t, alunosGames1, t, alunosGames2, t, alunosFrontEnd, t, alunosMobile, t, alunosDataScience, t, alunosJava, t, alunosPython, t, alunosETI)\n",
        "plt.xlabel('Semanas', fontsize=15)\n",
        "plt.ylabel('Número de estudantes ativos', fontsize = 15)\n",
        "\n",
        "plt.show()"
      ],
      "execution_count": 64,
      "outputs": [
        {
          "output_type": "display_data",
          "data": {
            "image/png": "[encoded data removed]",
            "text/plain": [
              "<Figure size 2160x432 with 1 Axes>"
            ]
          },
          "metadata": {
            "needs_background": "light"
          }
        }
      ]
    },
    {
      "cell_type": "code",
      "source": [
        "alunosETI"
      ],
      "metadata": {
        "id": "KBc5iHU7dTD-",
        "outputId": "dd382ab4-09e5-4952-cd14-03e00e52d8eb",
        "colab": {
          "base_uri": "https://localhost:8080/"
        }
      },
      "execution_count": 83,
      "outputs": [
        {
          "output_type": "execute_result",
          "data": {
            "text/plain": [
              "[148,\n",
              " 266,\n",
              " 347,\n",
              " 562,\n",
              " 917,\n",
              " 1330,\n",
              " 1101,\n",
              " 1339,\n",
              " 1948,\n",
              " 2023,\n",
              " 1769,\n",
              " 1486,\n",
              " 95,\n",
              " 1275,\n",
              " 2171,\n",
              " 2396,\n",
              " 2436,\n",
              " 2709,\n",
              " 2750,\n",
              " 2996,\n",
              " 2603,\n",
              " 3352,\n",
              " 3761,\n",
              " 4165,\n",
              " 4445,\n",
              " 2626,\n",
              " 4721,\n",
              " 4610,\n",
              " 3458,\n",
              " 4746,\n",
              " 3420,\n",
              " 3766,\n",
              " 2725,\n",
              " 1397,\n",
              " 374]"
            ]
          },
          "metadata": {},
          "execution_count": 83
        }
      ]
    },
    {
      "cell_type": "code",
      "metadata": {
        "id": "zEc2450lMNO-"
      },
      "source": [
        "import numpy as np"
      ],
      "execution_count": 65,
      "outputs": []
    },
    {
      "cell_type": "code",
      "metadata": {
        "id": "-2Et7nwkL98f",
        "colab": {
          "base_uri": "https://localhost:8080/"
        },
        "outputId": "d4926869-fcb6-49ae-903b-7945c6ef16d9"
      },
      "source": [
        "alunosEdutech = [];\n",
        "alunosEdutech = np.sum((alunosGames1, alunosGames2, alunosFrontEnd, alunosMobile, alunosDataScience, alunosJava, alunosPython),axis=0)\n",
        "\n",
        "alunosEdutech"
      ],
      "execution_count": 66,
      "outputs": [
        {
          "output_type": "execute_result",
          "data": {
            "text/plain": [
              "array([6209, 6352, 6317, 6123, 5558, 5549, 4491, 5100, 4590, 4329, 3626,\n",
              "       2811, 1306, 2401, 3150, 3103, 3021, 2715, 2939, 3258, 2764, 3612,\n",
              "       3588, 3416, 3075, 2385, 2889, 2605, 2094, 2445, 2121, 2163, 1953,\n",
              "       1781, 1477])"
            ]
          },
          "metadata": {},
          "execution_count": 66
        }
      ]
    },
    {
      "cell_type": "code",
      "metadata": {
        "id": "8OGz34fzLobJ",
        "colab": {
          "base_uri": "https://localhost:8080/",
          "height": 393
        },
        "outputId": "cba89926-4ccb-4da7-8657-cefe214d4f0a"
      },
      "source": [
        "t = list(range(1,N+1))\n",
        "plt.figure(figsize=(30,6))\n",
        "plt.plot(t, alunosEdutech, t , alunosETI)\n",
        "plt.xlabel('Semanas', fontsize=15)\n",
        "plt.ylabel('Número de estudantes ativos', fontsize = 15)\n",
        "\n",
        "plt.show()"
      ],
      "execution_count": 67,
      "outputs": [
        {
          "output_type": "display_data",
          "data": {
            "image/png": "[encoded data removed]",
            "text/plain": [
              "<Figure size 2160x432 with 1 Axes>"
            ]
          },
          "metadata": {
            "needs_background": "light"
          }
        }
      ]
    },
    {
      "cell_type": "code",
      "metadata": {
        "id": "V1uZAqcSK6u0",
        "colab": {
          "base_uri": "https://localhost:8080/"
        },
        "outputId": "43aaea94-97b3-46c4-efaa-5d8eeb067f7a"
      },
      "source": [
        "alunosAtivosDaSemana[25].dia_da_semana.value_counts().index"
      ],
      "execution_count": 68,
      "outputs": [
        {
          "output_type": "execute_result",
          "data": {
            "text/plain": [
              "Index(['Sexta', 'Quarta', 'Quinta', 'Domingo', 'Sabado', 'Segunda', 'Terca'], dtype='object')"
            ]
          },
          "metadata": {},
          "execution_count": 68
        }
      ]
    },
    {
      "cell_type": "markdown",
      "metadata": {
        "id": "JW5oU6FfLno0"
      },
      "source": [
        "# Qual é o dia da semana em que os alunos mais estudam?\n",
        "https://cursos.alura.com.br/course/data-science-primeiros-passos/task/49685"
      ]
    },
    {
      "cell_type": "code",
      "metadata": {
        "id": "oQ1bTpSKnBkl",
        "colab": {
          "base_uri": "https://localhost:8080/",
          "height": 386
        },
        "outputId": "cec2c733-0ca3-4dbd-9796-8ba831675c35"
      },
      "source": [
        "i=26\n",
        "sns.catplot(x = \"dia_da_semana\", data = alunosAtivosDaSemana[i], \n",
        "            kind=\"count\",\n",
        "            aspect=2,\n",
        "            palette=\"GnBu_d\",\n",
        "            order = alunosAtivosDaSemana[i].dia_da_semana.value_counts().index)"
      ],
      "execution_count": 69,
      "outputs": [
        {
          "output_type": "execute_result",
          "data": {
            "text/plain": [
              "<seaborn.axisgrid.FacetGrid at 0x7fd05174f310>"
            ]
          },
          "metadata": {},
          "execution_count": 69
        },
        {
          "output_type": "display_data",
          "data": {
            "image/png": "[encoded data removed]",
            "text/plain": [
              "<Figure size 720x360 with 1 Axes>"
            ]
          },
          "metadata": {
            "needs_background": "light"
          }
        }
      ]
    },
    {
      "cell_type": "markdown",
      "metadata": {
        "id": "RDFV3DTHjOAD"
      },
      "source": [
        "# Qual é o melhor dia da semana para estudar (Games1)"
      ]
    },
    {
      "cell_type": "code",
      "metadata": {
        "id": "ngoO2kfGjN1a",
        "colab": {
          "base_uri": "https://localhost:8080/",
          "height": 386
        },
        "outputId": "e8f328c2-25b5-43d8-bf3a-1b59e8a1a314"
      },
      "source": [
        "i=26\n",
        "sns.catplot(x = \"dia_da_semana\", data = alunosAtivosDaSemana[i].query('Trilha == \"DataScience\"'), \n",
        "            kind=\"count\",\n",
        "            aspect=2,\n",
        "            palette=\"GnBu_d\",\n",
        "            order = alunosAtivosDaSemana[i].query('Trilha == \"DataScience\"').dia_da_semana.value_counts().index)"
      ],
      "execution_count": 70,
      "outputs": [
        {
          "output_type": "execute_result",
          "data": {
            "text/plain": [
              "<seaborn.axisgrid.FacetGrid at 0x7fd0517caa10>"
            ]
          },
          "metadata": {},
          "execution_count": 70
        },
        {
          "output_type": "display_data",
          "data": {
            "image/png": "[encoded data removed]",
            "text/plain": [
              "<Figure size 720x360 with 1 Axes>"
            ]
          },
          "metadata": {
            "needs_background": "light"
          }
        }
      ]
    },
    {
      "cell_type": "markdown",
      "metadata": {
        "id": "GetxZs-VmzBd"
      },
      "source": [
        "# Qual é o melhor dia para estudar (geral)"
      ]
    },
    {
      "cell_type": "code",
      "metadata": {
        "id": "qNDpodizm4gv"
      },
      "source": [
        "new_df = pd.concat(([alunosAtivosDaSemana[i].query('Trilha == \"Games2\"') for i in range(N)]))"
      ],
      "execution_count": 71,
      "outputs": []
    },
    {
      "cell_type": "code",
      "metadata": {
        "colab": {
          "base_uri": "https://localhost:8080/",
          "height": 386
        },
        "id": "lNzK4p3OuO44",
        "outputId": "6b8dd782-3561-4d85-f1c8-51d063d279f6"
      },
      "source": [
        "sns.catplot(x = \"dia_da_semana\", data = new_df, \n",
        "            kind=\"count\",\n",
        "            aspect=2,\n",
        "            palette=\"GnBu_d\",\n",
        "            order = new_df.dia_da_semana.value_counts().index)"
      ],
      "execution_count": 72,
      "outputs": [
        {
          "output_type": "execute_result",
          "data": {
            "text/plain": [
              "<seaborn.axisgrid.FacetGrid at 0x7fd04fdfae50>"
            ]
          },
          "metadata": {},
          "execution_count": 72
        },
        {
          "output_type": "display_data",
          "data": {
            "image/png": "[encoded data removed]",
            "text/plain": [
              "<Figure size 720x360 with 1 Axes>"
            ]
          },
          "metadata": {
            "needs_background": "light"
          }
        }
      ]
    },
    {
      "cell_type": "code",
      "metadata": {
        "id": "j9C1jRDrvzrt",
        "outputId": "201f468f-89dd-4122-d5b5-6e630cad269a",
        "colab": {
          "base_uri": "https://localhost:8080/",
          "height": 386
        }
      },
      "source": [
        "tudoDia = pd.concat(([alunosAtivosDaSemana[i] for i in range(N)]))\n",
        "sns.catplot(x = \"dia_da_semana\", data = tudoDia, \n",
        "            kind=\"count\",\n",
        "            aspect=2,\n",
        "            palette=\"GnBu_d\",\n",
        "            order = tudoDia.dia_da_semana.value_counts().index)"
      ],
      "execution_count": 73,
      "outputs": [
        {
          "output_type": "execute_result",
          "data": {
            "text/plain": [
              "<seaborn.axisgrid.FacetGrid at 0x7fd05179e610>"
            ]
          },
          "metadata": {},
          "execution_count": 73
        },
        {
          "output_type": "display_data",
          "data": {
            "image/png": "[encoded data removed]",
            "text/plain": [
              "<Figure size 720x360 with 1 Axes>"
            ]
          },
          "metadata": {
            "needs_background": "light"
          }
        }
      ]
    },
    {
      "cell_type": "markdown",
      "metadata": {
        "id": "lePfRCrNgMPY"
      },
      "source": [
        ""
      ]
    },
    {
      "cell_type": "code",
      "metadata": {
        "id": "rTCjXppwmTze",
        "colab": {
          "base_uri": "https://localhost:8080/",
          "height": 389
        },
        "outputId": "f46eeb49-ea3c-464b-e4c8-111f4959134f"
      },
      "source": [
        "plt = sns.scatterplot(x='dia_da_semana',y='atividadesGerais', data=alunosAtivosDaSemana[1])\n",
        "plt.figure.set_size_inches(24,6)"
      ],
      "execution_count": 74,
      "outputs": [
        {
          "output_type": "display_data",
          "data": {
            "image/png": "[encoded data removed]",
            "text/plain": [
              "<Figure size 1728x432 with 1 Axes>"
            ]
          },
          "metadata": {
            "needs_background": "light"
          }
        }
      ]
    },
    {
      "cell_type": "code",
      "metadata": {
        "id": "lKUlXu_wM_sY",
        "colab": {
          "base_uri": "https://localhost:8080/",
          "height": 282
        },
        "outputId": "4055cb22-6786-4b05-e5a3-76b4db7d67fa"
      },
      "source": [
        "sns.distplot(alunosDataScience)\n"
      ],
      "execution_count": 75,
      "outputs": [
        {
          "output_type": "execute_result",
          "data": {
            "text/plain": [
              "<matplotlib.axes._subplots.AxesSubplot at 0x7fd04eb983d0>"
            ]
          },
          "metadata": {},
          "execution_count": 75
        },
        {
          "output_type": "display_data",
          "data": {
            "image/png": "[encoded data removed]",
            "text/plain": [
              "<Figure size 432x288 with 1 Axes>"
            ]
          },
          "metadata": {
            "needs_background": "light"
          }
        }
      ]
    },
    {
      "cell_type": "code",
      "metadata": {
        "id": "Y57_b8UPNWGy",
        "colab": {
          "base_uri": "https://localhost:8080/",
          "height": 282
        },
        "outputId": "af83ff75-d1c1-4ca3-bcdf-54d83b79400a"
      },
      "source": [
        "sns.distplot(alunosETI)\n"
      ],
      "execution_count": 76,
      "outputs": [
        {
          "output_type": "execute_result",
          "data": {
            "text/plain": [
              "<matplotlib.axes._subplots.AxesSubplot at 0x7fd051768210>"
            ]
          },
          "metadata": {},
          "execution_count": 76
        },
        {
          "output_type": "display_data",
          "data": {
            "image/png": "[encoded data removed]",
            "text/plain": [
              "<Figure size 432x288 with 1 Axes>"
            ]
          },
          "metadata": {
            "needs_background": "light"
          }
        }
      ]
    },
    {
      "cell_type": "code",
      "metadata": {
        "id": "veiI9QZWNDDB"
      },
      "source": [
        ""
      ],
      "execution_count": 76,
      "outputs": []
    }
  ]
}